{
 "cells": [
  {
   "cell_type": "code",
   "execution_count": 31,
   "metadata": {},
   "outputs": [],
   "source": [
    "import http.client\n",
    "import json\n",
    "import requests\n",
    "import pandas as pd\n",
    "\n",
    "import requests\n",
    "from pprint import pprint\n",
    "\n",
    "# Google developer API key\n",
    "from config import gkey\n",
    "\n",
    "\n"
   ]
  },
  {
   "cell_type": "code",
   "execution_count": 32,
   "metadata": {},
   "outputs": [],
   "source": [
    "connection = http.client.HTTPConnection('api.football-data.org')\n",
    "headers = { 'X-Auth-Token': gkey }\n",
    "connection.request('GET', '/v2/competitions/CL/matches', None, headers )\n",
    "response = json.loads(connection.getresponse().read().decode())"
   ]
  },
  {
   "cell_type": "code",
   "execution_count": 33,
   "metadata": {},
   "outputs": [],
   "source": [
    "import os\n",
    "from pprint import pprint\n",
    "#pprint(response)\n"
   ]
  },
  {
   "cell_type": "code",
   "execution_count": 34,
   "metadata": {},
   "outputs": [
    {
     "data": {
      "text/plain": [
       "dict_keys(['count', 'filters', 'competition', 'matches'])"
      ]
     },
     "execution_count": 34,
     "metadata": {},
     "output_type": "execute_result"
    }
   ],
   "source": [
    "type(response)\n",
    "response.keys()\n",
    "#response['matches']\n",
    "\n"
   ]
  },
  {
   "cell_type": "raw",
   "metadata": {},
   "source": [
    "response['score']"
   ]
  },
  {
   "cell_type": "code",
   "execution_count": 35,
   "metadata": {},
   "outputs": [],
   "source": [
    "len(response['matches'])\n",
    "#response.keys()\n",
    "\n",
    "from pandas.io.json import json_normalize\n",
    "CL_df=json_normalize(response['matches'])"
   ]
  },
  {
   "cell_type": "code",
   "execution_count": null,
   "metadata": {},
   "outputs": [],
   "source": [
    "\n"
   ]
  },
  {
   "cell_type": "code",
   "execution_count": 39,
   "metadata": {},
   "outputs": [],
   "source": [
    "from pandas import DataFrame\n",
    "\n",
    "\n",
    "\n",
    "Champions_League_api_df = DataFrame(CL_df)\n",
    "\n",
    "export_csv = Champions_League_api_df.to_csv (r'C:\\Users\\Mahtab\\euroean\\Resources\\Champion.csv', index = True, header=True) #Don't forget to add '.csv' at the end of the path\n",
    "\n",
    "#print (Champions_League_api_df)"
   ]
  },
  {
   "cell_type": "markdown",
   "metadata": {},
   "source": [
    "from pandas import DataFrame\n",
    "\n",
    "\n",
    "\n",
    "Champions_League_api_df = DataFrame(CL_df)\n",
    "\n",
    "#export_csv = Champions_League_api_df.to_csv (r'C:\\Users\\mvesk\\Football-ETL\\Champions League_api_df.csv', index = True, header=True) #Don't forget to add '.csv' at the end of the path\n",
    "\n",
    "print (Champions_League_api_df)"
   ]
  },
  {
   "cell_type": "markdown",
   "metadata": {},
   "source": [
    "import sqlite3\n",
    "from sqlite3 import Error\n",
    "import pandas\n",
    "def convert(db_file):\n",
    "    \"\"\" create a database connection to a SQLite database \"\"\"\n",
    "    try:\n",
    "        conn = sqlite3.connect(db_file)\n",
    "        Champions_League_api_df = DataFrame(CL_df)\n",
    "        CL_df.to_sql('cl2018', conn, if_exists='replace', index=True)\n",
    "    except Error as e:\n",
    "        print(e)\n",
    "    finally:\n",
    "        conn.close()\n",
    " \n",
    "convert(\"database.sqlite\")"
   ]
  },
  {
   "cell_type": "code",
   "execution_count": null,
   "metadata": {},
   "outputs": [],
   "source": []
  },
  {
   "cell_type": "code",
   "execution_count": null,
   "metadata": {},
   "outputs": [],
   "source": [
    "import sqlite3\n",
    "from sqlite3 import Error\n",
    "import pandas\n",
    " \n",
    " \n",
    "def convert(db_file):\n",
    "    \"\"\" create a database connection to a SQLite database \"\"\"\n",
    "    try:\n",
    "        conn = sqlite3.connect(db_file)\n",
    "        with open('Champions_League_api_df.csv', 'rb') as csvfile:\n",
    "            df = pandas.read_csv(csvfile)\n",
    "            df.to_sql('champion', conn, if_exists='replace', index=False)\n",
    "    except Error as e:\n",
    "        print(e)\n",
    "    finally:\n",
    "        conn.close()\n",
    " \n",
    "convert(\"database.sqlite\")\n",
    "\n"
   ]
  },
  {
   "cell_type": "code",
   "execution_count": 39,
   "metadata": {},
   "outputs": [],
   "source": []
  },
  {
   "cell_type": "markdown",
   "metadata": {},
   "source": [
    "from pandas import DataFrame\n",
    "\n",
    "\n",
    "\n",
    "Champions_League_api_df = DataFrame(CL_df)\n",
    "\n",
    "#export_csv = Champions_League_api_df.to_csv (r'C:\\Users\\mvesk\\Football-ETL\\Champions League_api_df.csv', index = True, header=True) #Don't forget to add '.csv' at the end of the path\n",
    "\n",
    "print (Champions_League_api_df)"
   ]
  },
  {
   "cell_type": "markdown",
   "metadata": {},
   "source": [
    "from pandas import DataFrame\n",
    "\n",
    "\n",
    "\n",
    "Champions_League_api_df = DataFrame(CL_df)\n",
    "\n",
    "#export_csv = Champions_League_api_df.to_csv (r'C:\\Users\\mvesk\\Football-ETL\\Champions League_api_df.csv', index = True, header=True) #Don't forget to add '.csv' at the end of the path\n",
    "\n",
    "print (Champions_League_api_df)"
   ]
  },
  {
   "cell_type": "code",
   "execution_count": null,
   "metadata": {},
   "outputs": [],
   "source": []
  },
  {
   "cell_type": "code",
   "execution_count": null,
   "metadata": {},
   "outputs": [],
   "source": []
  }
 ],
 "metadata": {
  "kernelspec": {
   "display_name": "Python 3",
   "language": "python",
   "name": "python3"
  },
  "language_info": {
   "codemirror_mode": {
    "name": "ipython",
    "version": 3
   },
   "file_extension": ".py",
   "mimetype": "text/x-python",
   "name": "python",
   "nbconvert_exporter": "python",
   "pygments_lexer": "ipython3",
   "version": "3.7.0"
  }
 },
 "nbformat": 4,
 "nbformat_minor": 2
}
